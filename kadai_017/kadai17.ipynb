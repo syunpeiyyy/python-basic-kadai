{
  "nbformat": 4,
  "nbformat_minor": 0,
  "metadata": {
    "colab": {
      "provenance": []
    },
    "kernelspec": {
      "name": "python3",
      "display_name": "Python 3"
    },
    "language_info": {
      "name": "python"
    }
  },
  "cells": [
    {
      "cell_type": "code",
      "source": [
        "class Human:\n",
        "    def __init__(self, name, age):\n",
        "        self.name = name\n",
        "        self.age = age\n",
        "\n",
        "    def check_adult(self):\n",
        "        if self.age >= 20:\n",
        "            print(f\"{self.name}は大人です。\")\n",
        "        else:\n",
        "            print(f\"{self.name}は大人ではありません。\")\n",
        "\n",
        "humans = [\n",
        "     Human(\"Ken\", 18),\n",
        "     Human(\"Alice\", 20),\n",
        "     Human(\"Mike\", 34)\n",
        "]\n",
        "\n",
        "for human in humans:\n",
        "    human.check_adult()\n"
      ],
      "metadata": {
        "id": "C5TY4S5PdqmL",
        "colab": {
          "base_uri": "https://localhost:8080/"
        },
        "outputId": "d1fa2a06-ef8c-4fd2-ec29-89ff70602b07"
      },
      "execution_count": null,
      "outputs": [
        {
          "output_type": "stream",
          "name": "stdout",
          "text": [
            "Kenは大人ではありません。\n",
            "Aliceは大人です。\n",
            "Mikeは大人です。\n"
          ]
        }
      ]
    }
  ]
}