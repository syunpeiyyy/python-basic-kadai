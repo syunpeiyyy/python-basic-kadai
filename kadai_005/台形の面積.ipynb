{
  "nbformat": 4,
  "nbformat_minor": 0,
  "metadata": {
    "colab": {
      "provenance": []
    },
    "kernelspec": {
      "name": "python3",
      "display_name": "Python 3"
    },
    "language_info": {
      "name": "python"
    }
  },
  "cells": [
    {
      "cell_type": "code",
      "source": [
        "upper_side = 10 #　上辺\n",
        "lower_side = 20 # 下辺\n",
        "height = 5 # 高さ\n",
        "\n",
        "trapezoid_area = (upper_side + lower_side) * height / 2 # 台形の面積\n",
        "print(str(trapezoid_area) + \"㎠\")\n",
        "\n"
      ],
      "metadata": {
        "colab": {
          "base_uri": "https://localhost:8080/"
        },
        "id": "3RVvQageBcZi",
        "outputId": "5a117872-2d09-4e55-cede-4a62c5d981c2"
      },
      "execution_count": null,
      "outputs": [
        {
          "output_type": "stream",
          "name": "stdout",
          "text": [
            "75.0㎠\n"
          ]
        }
      ]
    }
  ]
}