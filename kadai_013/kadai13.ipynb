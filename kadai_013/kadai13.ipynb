{
  "nbformat": 4,
  "nbformat_minor": 0,
  "metadata": {
    "colab": {
      "provenance": []
    },
    "kernelspec": {
      "name": "python3",
      "display_name": "Python 3"
    },
    "language_info": {
      "name": "python"
    }
  },
  "cells": [
    {
      "cell_type": "code",
      "execution_count": 1,
      "metadata": {
        "colab": {
          "base_uri": "https://localhost:8080/"
        },
        "id": "RV2mgaOGMaIW",
        "outputId": "0ccfdb1b-693c-4acb-e23a-0eabc5a6c1f7"
      },
      "outputs": [
        {
          "output_type": "stream",
          "name": "stdout",
          "text": [
            "550.0円\n"
          ]
        }
      ],
      "source": [
        "def calculate_total(price, tax):\n",
        "    total = price * tax\n",
        "    print(f\"{total}円\")\n",
        "\n",
        "calculate_total(500, 1.1)"
      ]
    }
  ]
}